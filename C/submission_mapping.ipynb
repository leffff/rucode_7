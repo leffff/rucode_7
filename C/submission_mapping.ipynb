{
 "cells": [
  {
   "cell_type": "code",
   "execution_count": 1,
   "id": "618ca199-c86a-4944-b82c-acb296525ebb",
   "metadata": {},
   "outputs": [
    {
     "name": "stdout",
     "output_type": "stream",
     "text": [
      "INFO: Pandarallel will run on 12 workers.\n",
      "INFO: Pandarallel will use Memory file system to transfer data between the main process and workers.\n"
     ]
    }
   ],
   "source": [
    "import os\n",
    "import random\n",
    "\n",
    "import pandas as pd\n",
    "from pandarallel import pandarallel\n",
    "pandarallel.initialize(progress_bar=True, use_memory_fs=True, nb_workers=12)\n",
    "import numpy as np\n",
    "\n",
    "from tqdm.auto import tqdm\n",
    "tqdm.pandas()\n",
    "\n",
    "from utils.metrics import f1_macro\n",
    "\n",
    "data_path = \"./data/\"\n",
    "mapping_path = \"./mapping/\"\n",
    "save_path = \"./submissions/\""
   ]
  },
  {
   "cell_type": "code",
   "execution_count": 2,
   "id": "54a4c58f-c302-4d4a-8fd4-cf7466f827c4",
   "metadata": {},
   "outputs": [
    {
     "data": {
      "text/plain": [
       "(5112420, 1)"
      ]
     },
     "execution_count": 2,
     "metadata": {},
     "output_type": "execute_result"
    }
   ],
   "source": [
    "df_test = pd.read_csv(os.path.join(data_path, \"addresses-close.csv\"), encoding='windows-1251', dtype=str)\n",
    "df_test.shape"
   ]
  },
  {
   "cell_type": "code",
   "execution_count": 3,
   "id": "0583646a-48e9-41f4-ad0c-84ddb5599b91",
   "metadata": {},
   "outputs": [],
   "source": [
    "region_mapper = pd.read_csv(os.path.join(mapping_path, \"region.csv\"))\n",
    "region_mapper = region_mapper.rename(columns={\"region_type\": \"address_type\", \"region_type_str\": \"address_type_str\", \"region_type_str.1\": \"count\"})\n",
    "\n",
    "municipality_mapper = pd.read_csv(os.path.join(mapping_path, \"municipality.csv\"))\n",
    "municipality_mapper = municipality_mapper.rename(columns={\"municipality_type\": \"address_type\", \"municipality_type_str\": \"address_type_str\", \"municipality_type_str.1\": \"count\"})\n",
    "\n",
    "settlement_mapper = pd.read_csv(os.path.join(mapping_path, \"settlement.csv\"))\n",
    "settlement_mapper = settlement_mapper.rename(columns={\"settlement_type\": \"address_type\", \"settlement_type_str\": \"address_type_str\", \"settlement_type_str.1\": \"count\"})\n",
    "\n",
    "location_mapper = pd.read_csv(os.path.join(mapping_path, \"location.csv\"))\n",
    "location_mapper = location_mapper.rename(columns={\"location_type\": \"address_type\", \"location_type_str\": \"address_type_str\", \"location_type_str.1\": \"count\"})\n",
    "\n",
    "street_mapper = pd.read_csv(os.path.join(mapping_path, \"street.csv\"))\n",
    "street_mapper = street_mapper.rename(columns={\"street_type\": \"address_type\", \"street_type_str\": \"address_type_str\", \"street_type_str.1\": \"count\"})"
   ]
  },
  {
   "cell_type": "code",
   "execution_count": 4,
   "id": "c9126f33-683e-4e07-a0fd-8fc68fab3e7e",
   "metadata": {},
   "outputs": [],
   "source": [
    "street_mapper_add = pd.DataFrame([\n",
    "        [\"съезд\", \"сзд\", 1],\n",
    "        [\"железнодорожная казарма\", \"ж/д к-ма.\", 2]\n",
    "    ], columns=[\"address_type\", \"address_type_str\", \"count\"])\n",
    "street_mapper = pd.concat([street_mapper, street_mapper_add])\n",
    "street_mapper = street_mapper.reset_index(drop=True)\n",
    "\n",
    "settlement_mapper_add = pd.DataFrame([\n",
    "        [\"железнодорожный пост\", \"ж/д п\", 1],\n",
    "    ], columns=[\"address_type\", \"address_type_str\", \"count\"])\n",
    "settlement_mapper = pd.concat([settlement_mapper, settlement_mapper_add])\n",
    "settlement_mapper = settlement_mapper.reset_index(drop=True)"
   ]
  },
  {
   "cell_type": "code",
   "execution_count": 5,
   "id": "f34b8b49-b891-45d4-97f5-92cdafdaa3b9",
   "metadata": {},
   "outputs": [
    {
     "data": {
      "text/html": [
       "<div>\n",
       "<style scoped>\n",
       "    .dataframe tbody tr th:only-of-type {\n",
       "        vertical-align: middle;\n",
       "    }\n",
       "\n",
       "    .dataframe tbody tr th {\n",
       "        vertical-align: top;\n",
       "    }\n",
       "\n",
       "    .dataframe thead th {\n",
       "        text-align: right;\n",
       "    }\n",
       "</style>\n",
       "<table border=\"1\" class=\"dataframe\">\n",
       "  <thead>\n",
       "    <tr style=\"text-align: right;\">\n",
       "      <th></th>\n",
       "      <th>region_str</th>\n",
       "      <th>municipality_str</th>\n",
       "      <th>settlement_str</th>\n",
       "      <th>location_str</th>\n",
       "      <th>street_str</th>\n",
       "      <th>house</th>\n",
       "      <th>source</th>\n",
       "    </tr>\n",
       "  </thead>\n",
       "  <tbody>\n",
       "    <tr>\n",
       "      <th>0</th>\n",
       "      <td>А.обл. Еврейская</td>\n",
       "      <td></td>\n",
       "      <td>г Биробиджан</td>\n",
       "      <td></td>\n",
       "      <td>переулок Авангардный</td>\n",
       "      <td>дом 6</td>\n",
       "      <td>1</td>\n",
       "    </tr>\n",
       "    <tr>\n",
       "      <th>1</th>\n",
       "      <td>аобл Еврейская</td>\n",
       "      <td></td>\n",
       "      <td>г. Биробиджан</td>\n",
       "      <td></td>\n",
       "      <td>пер-к Алмазный</td>\n",
       "      <td>дом 11</td>\n",
       "      <td>2</td>\n",
       "    </tr>\n",
       "    <tr>\n",
       "      <th>2</th>\n",
       "      <td>Аобл Еврейская</td>\n",
       "      <td></td>\n",
       "      <td>г Биробиджан</td>\n",
       "      <td></td>\n",
       "      <td>пер-к Ангарский</td>\n",
       "      <td>дом 2</td>\n",
       "      <td>2</td>\n",
       "    </tr>\n",
       "    <tr>\n",
       "      <th>3</th>\n",
       "      <td>а.обл. Еврейская</td>\n",
       "      <td></td>\n",
       "      <td>г. Биробиджан</td>\n",
       "      <td></td>\n",
       "      <td>переулок Апрельский</td>\n",
       "      <td>дом 1Б</td>\n",
       "      <td>2</td>\n",
       "    </tr>\n",
       "    <tr>\n",
       "      <th>4</th>\n",
       "      <td>Аобл Еврейская</td>\n",
       "      <td></td>\n",
       "      <td>Г. Биробиджан</td>\n",
       "      <td></td>\n",
       "      <td>переулок Апрельский</td>\n",
       "      <td>дом 6</td>\n",
       "      <td>2</td>\n",
       "    </tr>\n",
       "  </tbody>\n",
       "</table>\n",
       "</div>"
      ],
      "text/plain": [
       "         region_str municipality_str  settlement_str location_str  \\\n",
       "0  А.обл. Еврейская                     г Биробиджан                \n",
       "1    аобл Еврейская                    г. Биробиджан                \n",
       "2    Аобл Еврейская                     г Биробиджан                \n",
       "3  а.обл. Еврейская                    г. Биробиджан                \n",
       "4    Аобл Еврейская                    Г. Биробиджан                \n",
       "\n",
       "              street_str    house source  \n",
       "0   переулок Авангардный    дом 6      1  \n",
       "1         пер-к Алмазный   дом 11      2  \n",
       "2        пер-к Ангарский    дом 2      2  \n",
       "3    переулок Апрельский   дом 1Б      2  \n",
       "4    переулок Апрельский    дом 6      2  "
      ]
     },
     "execution_count": 5,
     "metadata": {},
     "output_type": "execute_result"
    }
   ],
   "source": [
    "df_pred = pd.DataFrame(df_test[\"address\"].str.split(';').tolist(), columns=[\"region_str\", \"municipality_str\", \"settlement_str\", \"location_str\", \"street_str\", \"house\", \"source\"])\n",
    "# df_pred = pd.concat([df_test, df_pred], axis=1)\n",
    "df_pred.head()"
   ]
  },
  {
   "cell_type": "code",
   "execution_count": 6,
   "id": "05fae6b0-5981-42a6-a292-852787992040",
   "metadata": {},
   "outputs": [
    {
     "data": {
      "text/html": [
       "<div>\n",
       "<style scoped>\n",
       "    .dataframe tbody tr th:only-of-type {\n",
       "        vertical-align: middle;\n",
       "    }\n",
       "\n",
       "    .dataframe tbody tr th {\n",
       "        vertical-align: top;\n",
       "    }\n",
       "\n",
       "    .dataframe thead th {\n",
       "        text-align: right;\n",
       "    }\n",
       "</style>\n",
       "<table border=\"1\" class=\"dataframe\">\n",
       "  <thead>\n",
       "    <tr style=\"text-align: right;\">\n",
       "      <th></th>\n",
       "      <th>region_str</th>\n",
       "      <th>municipality_str</th>\n",
       "      <th>settlement_str</th>\n",
       "      <th>location_str</th>\n",
       "      <th>street_str</th>\n",
       "      <th>house</th>\n",
       "      <th>source</th>\n",
       "    </tr>\n",
       "  </thead>\n",
       "  <tbody>\n",
       "    <tr>\n",
       "      <th>0</th>\n",
       "      <td>А.обл. Еврейская</td>\n",
       "      <td></td>\n",
       "      <td>г Биробиджан</td>\n",
       "      <td></td>\n",
       "      <td>переулок Авангардный</td>\n",
       "      <td>дом 6</td>\n",
       "      <td>1</td>\n",
       "    </tr>\n",
       "    <tr>\n",
       "      <th>1</th>\n",
       "      <td>аобл Еврейская</td>\n",
       "      <td></td>\n",
       "      <td>г. Биробиджан</td>\n",
       "      <td></td>\n",
       "      <td>пер-к Алмазный</td>\n",
       "      <td>дом 11</td>\n",
       "      <td>2</td>\n",
       "    </tr>\n",
       "    <tr>\n",
       "      <th>2</th>\n",
       "      <td>Аобл Еврейская</td>\n",
       "      <td></td>\n",
       "      <td>г Биробиджан</td>\n",
       "      <td></td>\n",
       "      <td>пер-к Ангарский</td>\n",
       "      <td>дом 2</td>\n",
       "      <td>2</td>\n",
       "    </tr>\n",
       "    <tr>\n",
       "      <th>3</th>\n",
       "      <td>а.обл. Еврейская</td>\n",
       "      <td></td>\n",
       "      <td>г. Биробиджан</td>\n",
       "      <td></td>\n",
       "      <td>переулок Апрельский</td>\n",
       "      <td>дом 1Б</td>\n",
       "      <td>2</td>\n",
       "    </tr>\n",
       "    <tr>\n",
       "      <th>4</th>\n",
       "      <td>Аобл Еврейская</td>\n",
       "      <td></td>\n",
       "      <td>Г. Биробиджан</td>\n",
       "      <td></td>\n",
       "      <td>переулок Апрельский</td>\n",
       "      <td>дом 6</td>\n",
       "      <td>2</td>\n",
       "    </tr>\n",
       "  </tbody>\n",
       "</table>\n",
       "</div>"
      ],
      "text/plain": [
       "         region_str municipality_str  settlement_str location_str  \\\n",
       "0  А.обл. Еврейская                     г Биробиджан                \n",
       "1    аобл Еврейская                    г. Биробиджан                \n",
       "2    Аобл Еврейская                     г Биробиджан                \n",
       "3  а.обл. Еврейская                    г. Биробиджан                \n",
       "4    Аобл Еврейская                    Г. Биробиджан                \n",
       "\n",
       "              street_str   house  source  \n",
       "0   переулок Авангардный   дом 6       1  \n",
       "1         пер-к Алмазный  дом 11       2  \n",
       "2        пер-к Ангарский   дом 2       2  \n",
       "3    переулок Апрельский  дом 1Б       2  \n",
       "4    переулок Апрельский   дом 6       2  "
      ]
     },
     "execution_count": 6,
     "metadata": {},
     "output_type": "execute_result"
    }
   ],
   "source": [
    "df_pred[\"house\"] = df_pred[\"house\"].str.strip(' ')\n",
    "df_pred[\"source\"] = df_pred[\"source\"].str.strip(' ').astype(int)\n",
    "df_pred.head()"
   ]
  },
  {
   "cell_type": "code",
   "execution_count": 7,
   "id": "c636f440-949a-4e07-8e6c-0d621c7eb3e5",
   "metadata": {},
   "outputs": [],
   "source": [
    "def map_str(address):\n",
    "    result = dict()\n",
    "    if address == '  ':\n",
    "        return pd.Series({column_name: '', column_name_type: ''})\n",
    "    address = address.strip(' ')\n",
    "    address = address.split()\n",
    "\n",
    "    result[column_name_type] = address[0]\n",
    "    result[column_name] = ' '.join(address[1:])\n",
    "\n",
    "    for i in range(1, len(address)):\n",
    "        try:\n",
    "            result[column_name_type] = address_mapper.loc[address_mapper[address_mapper[\"address_type_str\"] == ' '.join(address[:i])][\"count\"].idxmax(), \"address_type\"]\n",
    "            result[column_name] = ' '.join(address[i:])\n",
    "        except ValueError:\n",
    "            pass\n",
    "\n",
    "    return pd.Series(result)"
   ]
  },
  {
   "cell_type": "code",
   "execution_count": 8,
   "id": "d6a86136-d603-40b4-b9b5-9813f04d21fa",
   "metadata": {
    "scrolled": true
   },
   "outputs": [
    {
     "data": {
      "application/vnd.jupyter.widget-view+json": {
       "model_id": "77220d1e2b5042b6822ba8a659e1a81d",
       "version_major": 2,
       "version_minor": 0
      },
      "text/plain": [
       "VBox(children=(HBox(children=(IntProgress(value=0, description='0.00%', max=426035), Label(value='0 / 426035')…"
      ]
     },
     "metadata": {},
     "output_type": "display_data"
    },
    {
     "name": "stderr",
     "output_type": "stream",
     "text": [
      "/home/egor/PycharmProjects/rucode_7/venv/lib/python3.11/site-packages/pandarallel/data_types/series.py:26: FutureWarning: Returning a DataFrame from Series.apply when the supplied function returns a Series is deprecated and will be removed in a future version.\n",
      "  return data.apply(\n",
      "/home/egor/PycharmProjects/rucode_7/venv/lib/python3.11/site-packages/pandarallel/data_types/series.py:26: FutureWarning: Returning a DataFrame from Series.apply when the supplied function returns a Series is deprecated and will be removed in a future version.\n",
      "  return data.apply(\n",
      "/home/egor/PycharmProjects/rucode_7/venv/lib/python3.11/site-packages/pandarallel/data_types/series.py:26: FutureWarning: Returning a DataFrame from Series.apply when the supplied function returns a Series is deprecated and will be removed in a future version.\n",
      "  return data.apply(\n",
      "/home/egor/PycharmProjects/rucode_7/venv/lib/python3.11/site-packages/pandarallel/data_types/series.py:26: FutureWarning: Returning a DataFrame from Series.apply when the supplied function returns a Series is deprecated and will be removed in a future version.\n",
      "  return data.apply(\n",
      "/home/egor/PycharmProjects/rucode_7/venv/lib/python3.11/site-packages/pandarallel/data_types/series.py:26: FutureWarning: Returning a DataFrame from Series.apply when the supplied function returns a Series is deprecated and will be removed in a future version.\n",
      "  return data.apply(\n",
      "/home/egor/PycharmProjects/rucode_7/venv/lib/python3.11/site-packages/pandarallel/data_types/series.py:26: FutureWarning: Returning a DataFrame from Series.apply when the supplied function returns a Series is deprecated and will be removed in a future version.\n",
      "  return data.apply(\n",
      "/home/egor/PycharmProjects/rucode_7/venv/lib/python3.11/site-packages/pandarallel/data_types/series.py:26: FutureWarning: Returning a DataFrame from Series.apply when the supplied function returns a Series is deprecated and will be removed in a future version.\n",
      "  return data.apply(\n",
      "/home/egor/PycharmProjects/rucode_7/venv/lib/python3.11/site-packages/pandarallel/data_types/series.py:26: FutureWarning: Returning a DataFrame from Series.apply when the supplied function returns a Series is deprecated and will be removed in a future version.\n",
      "  return data.apply(\n",
      "/home/egor/PycharmProjects/rucode_7/venv/lib/python3.11/site-packages/pandarallel/data_types/series.py:26: FutureWarning: Returning a DataFrame from Series.apply when the supplied function returns a Series is deprecated and will be removed in a future version.\n",
      "  return data.apply(\n",
      "/home/egor/PycharmProjects/rucode_7/venv/lib/python3.11/site-packages/pandarallel/data_types/series.py:26: FutureWarning: Returning a DataFrame from Series.apply when the supplied function returns a Series is deprecated and will be removed in a future version.\n",
      "  return data.apply(\n",
      "/home/egor/PycharmProjects/rucode_7/venv/lib/python3.11/site-packages/pandarallel/data_types/series.py:26: FutureWarning: Returning a DataFrame from Series.apply when the supplied function returns a Series is deprecated and will be removed in a future version.\n",
      "  return data.apply(\n",
      "/home/egor/PycharmProjects/rucode_7/venv/lib/python3.11/site-packages/pandarallel/data_types/series.py:26: FutureWarning: Returning a DataFrame from Series.apply when the supplied function returns a Series is deprecated and will be removed in a future version.\n",
      "  return data.apply(\n"
     ]
    },
    {
     "data": {
      "application/vnd.jupyter.widget-view+json": {
       "model_id": "fa9e13323e9942e0b5f95cef2a4ccf43",
       "version_major": 2,
       "version_minor": 0
      },
      "text/plain": [
       "VBox(children=(HBox(children=(IntProgress(value=0, description='0.00%', max=426035), Label(value='0 / 426035')…"
      ]
     },
     "metadata": {},
     "output_type": "display_data"
    },
    {
     "name": "stderr",
     "output_type": "stream",
     "text": [
      "/home/egor/PycharmProjects/rucode_7/venv/lib/python3.11/site-packages/pandarallel/data_types/series.py:26: FutureWarning: Returning a DataFrame from Series.apply when the supplied function returns a Series is deprecated and will be removed in a future version.\n",
      "  return data.apply(\n",
      "/home/egor/PycharmProjects/rucode_7/venv/lib/python3.11/site-packages/pandarallel/data_types/series.py:26: FutureWarning: Returning a DataFrame from Series.apply when the supplied function returns a Series is deprecated and will be removed in a future version.\n",
      "  return data.apply(\n",
      "/home/egor/PycharmProjects/rucode_7/venv/lib/python3.11/site-packages/pandarallel/data_types/series.py:26: FutureWarning: Returning a DataFrame from Series.apply when the supplied function returns a Series is deprecated and will be removed in a future version.\n",
      "  return data.apply(\n",
      "/home/egor/PycharmProjects/rucode_7/venv/lib/python3.11/site-packages/pandarallel/data_types/series.py:26: FutureWarning: Returning a DataFrame from Series.apply when the supplied function returns a Series is deprecated and will be removed in a future version.\n",
      "  return data.apply(\n",
      "/home/egor/PycharmProjects/rucode_7/venv/lib/python3.11/site-packages/pandarallel/data_types/series.py:26: FutureWarning: Returning a DataFrame from Series.apply when the supplied function returns a Series is deprecated and will be removed in a future version.\n",
      "  return data.apply(\n",
      "/home/egor/PycharmProjects/rucode_7/venv/lib/python3.11/site-packages/pandarallel/data_types/series.py:26: FutureWarning: Returning a DataFrame from Series.apply when the supplied function returns a Series is deprecated and will be removed in a future version.\n",
      "  return data.apply(\n",
      "/home/egor/PycharmProjects/rucode_7/venv/lib/python3.11/site-packages/pandarallel/data_types/series.py:26: FutureWarning: Returning a DataFrame from Series.apply when the supplied function returns a Series is deprecated and will be removed in a future version.\n",
      "  return data.apply(\n",
      "/home/egor/PycharmProjects/rucode_7/venv/lib/python3.11/site-packages/pandarallel/data_types/series.py:26: FutureWarning: Returning a DataFrame from Series.apply when the supplied function returns a Series is deprecated and will be removed in a future version.\n",
      "  return data.apply(\n",
      "/home/egor/PycharmProjects/rucode_7/venv/lib/python3.11/site-packages/pandarallel/data_types/series.py:26: FutureWarning: Returning a DataFrame from Series.apply when the supplied function returns a Series is deprecated and will be removed in a future version.\n",
      "  return data.apply(\n",
      "/home/egor/PycharmProjects/rucode_7/venv/lib/python3.11/site-packages/pandarallel/data_types/series.py:26: FutureWarning: Returning a DataFrame from Series.apply when the supplied function returns a Series is deprecated and will be removed in a future version.\n",
      "  return data.apply(\n",
      "/home/egor/PycharmProjects/rucode_7/venv/lib/python3.11/site-packages/pandarallel/data_types/series.py:26: FutureWarning: Returning a DataFrame from Series.apply when the supplied function returns a Series is deprecated and will be removed in a future version.\n",
      "  return data.apply(\n",
      "/home/egor/PycharmProjects/rucode_7/venv/lib/python3.11/site-packages/pandarallel/data_types/series.py:26: FutureWarning: Returning a DataFrame from Series.apply when the supplied function returns a Series is deprecated and will be removed in a future version.\n",
      "  return data.apply(\n"
     ]
    },
    {
     "data": {
      "application/vnd.jupyter.widget-view+json": {
       "model_id": "2d6661591e4a4f1bba03e01ad691db57",
       "version_major": 2,
       "version_minor": 0
      },
      "text/plain": [
       "VBox(children=(HBox(children=(IntProgress(value=0, description='0.00%', max=426035), Label(value='0 / 426035')…"
      ]
     },
     "metadata": {},
     "output_type": "display_data"
    },
    {
     "name": "stderr",
     "output_type": "stream",
     "text": [
      "/home/egor/PycharmProjects/rucode_7/venv/lib/python3.11/site-packages/pandarallel/data_types/series.py:26: FutureWarning: Returning a DataFrame from Series.apply when the supplied function returns a Series is deprecated and will be removed in a future version.\n",
      "  return data.apply(\n",
      "/home/egor/PycharmProjects/rucode_7/venv/lib/python3.11/site-packages/pandarallel/data_types/series.py:26: FutureWarning: Returning a DataFrame from Series.apply when the supplied function returns a Series is deprecated and will be removed in a future version.\n",
      "  return data.apply(\n",
      "/home/egor/PycharmProjects/rucode_7/venv/lib/python3.11/site-packages/pandarallel/data_types/series.py:26: FutureWarning: Returning a DataFrame from Series.apply when the supplied function returns a Series is deprecated and will be removed in a future version.\n",
      "  return data.apply(\n",
      "/home/egor/PycharmProjects/rucode_7/venv/lib/python3.11/site-packages/pandarallel/data_types/series.py:26: FutureWarning: Returning a DataFrame from Series.apply when the supplied function returns a Series is deprecated and will be removed in a future version.\n",
      "  return data.apply(\n",
      "/home/egor/PycharmProjects/rucode_7/venv/lib/python3.11/site-packages/pandarallel/data_types/series.py:26: FutureWarning: Returning a DataFrame from Series.apply when the supplied function returns a Series is deprecated and will be removed in a future version.\n",
      "  return data.apply(\n",
      "/home/egor/PycharmProjects/rucode_7/venv/lib/python3.11/site-packages/pandarallel/data_types/series.py:26: FutureWarning: Returning a DataFrame from Series.apply when the supplied function returns a Series is deprecated and will be removed in a future version.\n",
      "  return data.apply(\n",
      "/home/egor/PycharmProjects/rucode_7/venv/lib/python3.11/site-packages/pandarallel/data_types/series.py:26: FutureWarning: Returning a DataFrame from Series.apply when the supplied function returns a Series is deprecated and will be removed in a future version.\n",
      "  return data.apply(\n",
      "/home/egor/PycharmProjects/rucode_7/venv/lib/python3.11/site-packages/pandarallel/data_types/series.py:26: FutureWarning: Returning a DataFrame from Series.apply when the supplied function returns a Series is deprecated and will be removed in a future version.\n",
      "  return data.apply(\n",
      "/home/egor/PycharmProjects/rucode_7/venv/lib/python3.11/site-packages/pandarallel/data_types/series.py:26: FutureWarning: Returning a DataFrame from Series.apply when the supplied function returns a Series is deprecated and will be removed in a future version.\n",
      "  return data.apply(\n",
      "/home/egor/PycharmProjects/rucode_7/venv/lib/python3.11/site-packages/pandarallel/data_types/series.py:26: FutureWarning: Returning a DataFrame from Series.apply when the supplied function returns a Series is deprecated and will be removed in a future version.\n",
      "  return data.apply(\n",
      "/home/egor/PycharmProjects/rucode_7/venv/lib/python3.11/site-packages/pandarallel/data_types/series.py:26: FutureWarning: Returning a DataFrame from Series.apply when the supplied function returns a Series is deprecated and will be removed in a future version.\n",
      "  return data.apply(\n",
      "/home/egor/PycharmProjects/rucode_7/venv/lib/python3.11/site-packages/pandarallel/data_types/series.py:26: FutureWarning: Returning a DataFrame from Series.apply when the supplied function returns a Series is deprecated and will be removed in a future version.\n",
      "  return data.apply(\n"
     ]
    },
    {
     "data": {
      "application/vnd.jupyter.widget-view+json": {
       "model_id": "56a99dcc18044606978e9d78896056ab",
       "version_major": 2,
       "version_minor": 0
      },
      "text/plain": [
       "VBox(children=(HBox(children=(IntProgress(value=0, description='0.00%', max=426035), Label(value='0 / 426035')…"
      ]
     },
     "metadata": {},
     "output_type": "display_data"
    },
    {
     "name": "stderr",
     "output_type": "stream",
     "text": [
      "/home/egor/PycharmProjects/rucode_7/venv/lib/python3.11/site-packages/pandarallel/data_types/series.py:26: FutureWarning: Returning a DataFrame from Series.apply when the supplied function returns a Series is deprecated and will be removed in a future version.\n",
      "  return data.apply(\n",
      "/home/egor/PycharmProjects/rucode_7/venv/lib/python3.11/site-packages/pandarallel/data_types/series.py:26: FutureWarning: Returning a DataFrame from Series.apply when the supplied function returns a Series is deprecated and will be removed in a future version.\n",
      "  return data.apply(\n",
      "/home/egor/PycharmProjects/rucode_7/venv/lib/python3.11/site-packages/pandarallel/data_types/series.py:26: FutureWarning: Returning a DataFrame from Series.apply when the supplied function returns a Series is deprecated and will be removed in a future version.\n",
      "  return data.apply(\n",
      "/home/egor/PycharmProjects/rucode_7/venv/lib/python3.11/site-packages/pandarallel/data_types/series.py:26: FutureWarning: Returning a DataFrame from Series.apply when the supplied function returns a Series is deprecated and will be removed in a future version.\n",
      "  return data.apply(\n",
      "/home/egor/PycharmProjects/rucode_7/venv/lib/python3.11/site-packages/pandarallel/data_types/series.py:26: FutureWarning: Returning a DataFrame from Series.apply when the supplied function returns a Series is deprecated and will be removed in a future version.\n",
      "  return data.apply(\n",
      "/home/egor/PycharmProjects/rucode_7/venv/lib/python3.11/site-packages/pandarallel/data_types/series.py:26: FutureWarning: Returning a DataFrame from Series.apply when the supplied function returns a Series is deprecated and will be removed in a future version.\n",
      "  return data.apply(\n",
      "/home/egor/PycharmProjects/rucode_7/venv/lib/python3.11/site-packages/pandarallel/data_types/series.py:26: FutureWarning: Returning a DataFrame from Series.apply when the supplied function returns a Series is deprecated and will be removed in a future version.\n",
      "  return data.apply(\n",
      "/home/egor/PycharmProjects/rucode_7/venv/lib/python3.11/site-packages/pandarallel/data_types/series.py:26: FutureWarning: Returning a DataFrame from Series.apply when the supplied function returns a Series is deprecated and will be removed in a future version.\n",
      "  return data.apply(\n",
      "/home/egor/PycharmProjects/rucode_7/venv/lib/python3.11/site-packages/pandarallel/data_types/series.py:26: FutureWarning: Returning a DataFrame from Series.apply when the supplied function returns a Series is deprecated and will be removed in a future version.\n",
      "  return data.apply(\n",
      "/home/egor/PycharmProjects/rucode_7/venv/lib/python3.11/site-packages/pandarallel/data_types/series.py:26: FutureWarning: Returning a DataFrame from Series.apply when the supplied function returns a Series is deprecated and will be removed in a future version.\n",
      "  return data.apply(\n",
      "/home/egor/PycharmProjects/rucode_7/venv/lib/python3.11/site-packages/pandarallel/data_types/series.py:26: FutureWarning: Returning a DataFrame from Series.apply when the supplied function returns a Series is deprecated and will be removed in a future version.\n",
      "  return data.apply(\n",
      "/home/egor/PycharmProjects/rucode_7/venv/lib/python3.11/site-packages/pandarallel/data_types/series.py:26: FutureWarning: Returning a DataFrame from Series.apply when the supplied function returns a Series is deprecated and will be removed in a future version.\n",
      "  return data.apply(\n"
     ]
    },
    {
     "data": {
      "application/vnd.jupyter.widget-view+json": {
       "model_id": "24172937c83f44d0b7492103ac5e915c",
       "version_major": 2,
       "version_minor": 0
      },
      "text/plain": [
       "VBox(children=(HBox(children=(IntProgress(value=0, description='0.00%', max=426035), Label(value='0 / 426035')…"
      ]
     },
     "metadata": {},
     "output_type": "display_data"
    },
    {
     "name": "stderr",
     "output_type": "stream",
     "text": [
      "/home/egor/PycharmProjects/rucode_7/venv/lib/python3.11/site-packages/pandarallel/data_types/series.py:26: FutureWarning: Returning a DataFrame from Series.apply when the supplied function returns a Series is deprecated and will be removed in a future version.\n",
      "  return data.apply(\n",
      "/home/egor/PycharmProjects/rucode_7/venv/lib/python3.11/site-packages/pandarallel/data_types/series.py:26: FutureWarning: Returning a DataFrame from Series.apply when the supplied function returns a Series is deprecated and will be removed in a future version.\n",
      "  return data.apply(\n",
      "/home/egor/PycharmProjects/rucode_7/venv/lib/python3.11/site-packages/pandarallel/data_types/series.py:26: FutureWarning: Returning a DataFrame from Series.apply when the supplied function returns a Series is deprecated and will be removed in a future version.\n",
      "  return data.apply(\n",
      "/home/egor/PycharmProjects/rucode_7/venv/lib/python3.11/site-packages/pandarallel/data_types/series.py:26: FutureWarning: Returning a DataFrame from Series.apply when the supplied function returns a Series is deprecated and will be removed in a future version.\n",
      "  return data.apply(\n",
      "/home/egor/PycharmProjects/rucode_7/venv/lib/python3.11/site-packages/pandarallel/data_types/series.py:26: FutureWarning: Returning a DataFrame from Series.apply when the supplied function returns a Series is deprecated and will be removed in a future version.\n",
      "  return data.apply(\n",
      "/home/egor/PycharmProjects/rucode_7/venv/lib/python3.11/site-packages/pandarallel/data_types/series.py:26: FutureWarning: Returning a DataFrame from Series.apply when the supplied function returns a Series is deprecated and will be removed in a future version.\n",
      "  return data.apply(\n",
      "/home/egor/PycharmProjects/rucode_7/venv/lib/python3.11/site-packages/pandarallel/data_types/series.py:26: FutureWarning: Returning a DataFrame from Series.apply when the supplied function returns a Series is deprecated and will be removed in a future version.\n",
      "  return data.apply(\n",
      "/home/egor/PycharmProjects/rucode_7/venv/lib/python3.11/site-packages/pandarallel/data_types/series.py:26: FutureWarning: Returning a DataFrame from Series.apply when the supplied function returns a Series is deprecated and will be removed in a future version.\n",
      "  return data.apply(\n",
      "/home/egor/PycharmProjects/rucode_7/venv/lib/python3.11/site-packages/pandarallel/data_types/series.py:26: FutureWarning: Returning a DataFrame from Series.apply when the supplied function returns a Series is deprecated and will be removed in a future version.\n",
      "  return data.apply(\n",
      "/home/egor/PycharmProjects/rucode_7/venv/lib/python3.11/site-packages/pandarallel/data_types/series.py:26: FutureWarning: Returning a DataFrame from Series.apply when the supplied function returns a Series is deprecated and will be removed in a future version.\n",
      "  return data.apply(\n",
      "/home/egor/PycharmProjects/rucode_7/venv/lib/python3.11/site-packages/pandarallel/data_types/series.py:26: FutureWarning: Returning a DataFrame from Series.apply when the supplied function returns a Series is deprecated and will be removed in a future version.\n",
      "  return data.apply(\n",
      "/home/egor/PycharmProjects/rucode_7/venv/lib/python3.11/site-packages/pandarallel/data_types/series.py:26: FutureWarning: Returning a DataFrame from Series.apply when the supplied function returns a Series is deprecated and will be removed in a future version.\n",
      "  return data.apply(\n"
     ]
    }
   ],
   "source": [
    "address_mapper = region_mapper\n",
    "column_name_type = \"region_type\"\n",
    "column_name = \"region\"\n",
    "df_pred = pd.concat([df_pred[\"region_str\"].parallel_apply(map_str), df_pred], axis=1).drop(columns=[\"region_str\"])\n",
    "\n",
    "address_mapper = municipality_mapper\n",
    "column_name_type = \"municipality_type\"\n",
    "column_name = \"municipality\"\n",
    "df_pred = pd.concat([df_pred[\"municipality_str\"].parallel_apply(map_str), df_pred], axis=1).drop(columns=[\"municipality_str\"])\n",
    "\n",
    "address_mapper = settlement_mapper\n",
    "column_name_type = \"settlement_type\"\n",
    "column_name = \"settlement\"\n",
    "df_pred = pd.concat([df_pred[\"settlement_str\"].parallel_apply(map_str), df_pred], axis=1).drop(columns=[\"settlement_str\"])\n",
    "\n",
    "address_mapper = location_mapper\n",
    "column_name_type = \"location_type\"\n",
    "column_name = \"location\"\n",
    "df_pred = pd.concat([df_pred[\"location_str\"].parallel_apply(map_str), df_pred], axis=1).drop(columns=[\"location_str\"])\n",
    "\n",
    "address_mapper = street_mapper\n",
    "column_name_type = \"street_type\"\n",
    "column_name = \"street\"\n",
    "df_pred = pd.concat([df_pred[\"street_str\"].parallel_apply(map_str), df_pred], axis=1).drop(columns=[\"street_str\"])"
   ]
  },
  {
   "cell_type": "code",
   "execution_count": 9,
   "id": "677acf3c-8aec-4706-9ccc-eca3f3c0c597",
   "metadata": {},
   "outputs": [],
   "source": [
    "df_pred = df_pred.fillna('')"
   ]
  },
  {
   "cell_type": "code",
   "execution_count": 10,
   "id": "e51ffbdc-a5c5-4385-903a-00d23b71d36d",
   "metadata": {},
   "outputs": [],
   "source": [
    "df_pred.to_csv(os.path.join(save_path, \"close_5.csv\"), index=False, encoding=\"windows-1251\")"
   ]
  },
  {
   "cell_type": "code",
   "execution_count": null,
   "id": "01a77756-086b-40d9-8438-5800b24270e4",
   "metadata": {},
   "outputs": [],
   "source": []
  }
 ],
 "metadata": {
  "kernelspec": {
   "display_name": "Python 3 (ipykernel)",
   "language": "python",
   "name": "python3"
  },
  "language_info": {
   "codemirror_mode": {
    "name": "ipython",
    "version": 3
   },
   "file_extension": ".py",
   "mimetype": "text/x-python",
   "name": "python",
   "nbconvert_exporter": "python",
   "pygments_lexer": "ipython3",
   "version": "3.11.4"
  }
 },
 "nbformat": 4,
 "nbformat_minor": 5
}
