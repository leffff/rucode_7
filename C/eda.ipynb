{
 "cells": [
  {
   "cell_type": "code",
   "execution_count": 1,
   "id": "8440c557",
   "metadata": {},
   "outputs": [],
   "source": [
    "import os\n",
    "import random\n",
    "\n",
    "import pandas as pd\n",
    "\n",
    "data_path = \"./data/\""
   ]
  },
  {
   "cell_type": "code",
   "execution_count": 2,
   "id": "13ace2ea",
   "metadata": {},
   "outputs": [
    {
     "data": {
      "text/plain": [
       "(15337320, 13)"
      ]
     },
     "execution_count": 2,
     "metadata": {},
     "output_type": "execute_result"
    }
   ],
   "source": [
    "df_train = pd.read_csv(os.path.join(data_path, \"addresses-train.csv\"), encoding='windows-1251', dtype=str)\n",
    "df_train.shape"
   ]
  },
  {
   "cell_type": "code",
   "execution_count": 3,
   "id": "41e60d5c",
   "metadata": {},
   "outputs": [
    {
     "data": {
      "text/plain": [
       "Index(['address', 'region', 'region_type', 'municipality', 'municipality_type',\n",
       "       'settlement', 'settlement_type', 'location', 'location_type', 'street',\n",
       "       'street_type', 'house', 'source'],\n",
       "      dtype='object')"
      ]
     },
     "execution_count": 3,
     "metadata": {},
     "output_type": "execute_result"
    }
   ],
   "source": [
    "df_train.columns"
   ]
  },
  {
   "cell_type": "code",
   "execution_count": 12,
   "id": "5cb889f3-9d73-43e4-8a5c-caae268d1fde",
   "metadata": {},
   "outputs": [
    {
     "data": {
      "text/plain": [
       "5976"
      ]
     },
     "execution_count": 12,
     "metadata": {},
     "output_type": "execute_result"
    }
   ],
   "source": [
    "df_train[\"location_type\"].value_counts()[\"массив\"]"
   ]
  },
  {
   "cell_type": "code",
   "execution_count": 18,
   "id": "2f5ae2d7",
   "metadata": {},
   "outputs": [
    {
     "name": "stdout",
     "output_type": "stream",
     "text": [
      "Column: address\n",
      "NaN count: 0\n",
      "not NaN count: 15337320\n",
      "\n",
      "Column: region\n",
      "NaN count: 0\n",
      "not NaN count: 15337320\n",
      "\n",
      "Column: region_type\n",
      "NaN count: 0\n",
      "not NaN count: 15337320\n",
      "\n",
      "Column: municipality\n",
      "NaN count: 6247150\n",
      "not NaN count: 9090170\n",
      "\n",
      "Column: municipality_type\n",
      "NaN count: 6247150\n",
      "not NaN count: 9090170\n",
      "\n",
      "Column: settlement\n",
      "NaN count: 574892\n",
      "not NaN count: 14762428\n",
      "\n",
      "Column: settlement_type\n",
      "NaN count: 574892\n",
      "not NaN count: 14762428\n",
      "\n",
      "Column: location\n",
      "NaN count: 11900811\n",
      "not NaN count: 3436509\n",
      "\n",
      "Column: location_type\n",
      "NaN count: 11900811\n",
      "not NaN count: 3436509\n",
      "\n",
      "Column: street\n",
      "NaN count: 2558837\n",
      "not NaN count: 12778483\n",
      "\n",
      "Column: street_type\n",
      "NaN count: 2558837\n",
      "not NaN count: 12778483\n",
      "\n",
      "Column: house\n",
      "NaN count: 5\n",
      "not NaN count: 15337315\n",
      "\n",
      "Column: source\n",
      "NaN count: 0\n",
      "not NaN count: 15337320\n",
      "\n"
     ]
    }
   ],
   "source": [
    "for column in df_train.columns:\n",
    "    print(f\"Column: {column}\")\n",
    "    print(f\"NaN count: {df_train[column].isna().sum()}\")\n",
    "    print(f\"not NaN count: {df_train.shape[0] - df_train[column].isna().sum()}\")\n",
    "    print()"
   ]
  },
  {
   "cell_type": "code",
   "execution_count": 20,
   "id": "ecb5b751",
   "metadata": {},
   "outputs": [
    {
     "data": {
      "text/html": [
       "<div>\n",
       "<style scoped>\n",
       "    .dataframe tbody tr th:only-of-type {\n",
       "        vertical-align: middle;\n",
       "    }\n",
       "\n",
       "    .dataframe tbody tr th {\n",
       "        vertical-align: top;\n",
       "    }\n",
       "\n",
       "    .dataframe thead th {\n",
       "        text-align: right;\n",
       "    }\n",
       "</style>\n",
       "<table border=\"1\" class=\"dataframe\">\n",
       "  <thead>\n",
       "    <tr style=\"text-align: right;\">\n",
       "      <th></th>\n",
       "      <th>address</th>\n",
       "      <th>region</th>\n",
       "      <th>region_type</th>\n",
       "      <th>municipality</th>\n",
       "      <th>municipality_type</th>\n",
       "      <th>settlement</th>\n",
       "      <th>settlement_type</th>\n",
       "      <th>location</th>\n",
       "      <th>location_type</th>\n",
       "      <th>street</th>\n",
       "      <th>street_type</th>\n",
       "      <th>house</th>\n",
       "      <th>source</th>\n",
       "    </tr>\n",
       "  </thead>\n",
       "  <tbody>\n",
       "    <tr>\n",
       "      <th>1122608</th>\n",
       "      <td>Край Красноярский; район Большемуртинский; пос...</td>\n",
       "      <td>Красноярский</td>\n",
       "      <td>край</td>\n",
       "      <td>Большемуртинский</td>\n",
       "      <td>район</td>\n",
       "      <td>Предивинск</td>\n",
       "      <td>поселок</td>\n",
       "      <td>NaN</td>\n",
       "      <td>NaN</td>\n",
       "      <td>Горького</td>\n",
       "      <td>улица</td>\n",
       "      <td>NaN</td>\n",
       "      <td>2</td>\n",
       "    </tr>\n",
       "    <tr>\n",
       "      <th>4447073</th>\n",
       "      <td>Обл. Нижегородская;  ; Г Саров; терр. ГСК N 7;...</td>\n",
       "      <td>Нижегородская</td>\n",
       "      <td>область</td>\n",
       "      <td>NaN</td>\n",
       "      <td>NaN</td>\n",
       "      <td>Саров</td>\n",
       "      <td>город</td>\n",
       "      <td>ГСК N 7</td>\n",
       "      <td>территория</td>\n",
       "      <td>NaN</td>\n",
       "      <td>NaN</td>\n",
       "      <td>NaN</td>\n",
       "      <td>2</td>\n",
       "    </tr>\n",
       "    <tr>\n",
       "      <th>5067144</th>\n",
       "      <td>Обл Орловская; р-н. Болховский; село Чегодаево...</td>\n",
       "      <td>Орловская</td>\n",
       "      <td>область</td>\n",
       "      <td>Болховский</td>\n",
       "      <td>район</td>\n",
       "      <td>Чегодаево</td>\n",
       "      <td>село</td>\n",
       "      <td>NaN</td>\n",
       "      <td>NaN</td>\n",
       "      <td>Центральная</td>\n",
       "      <td>улица</td>\n",
       "      <td>NaN</td>\n",
       "      <td>2</td>\n",
       "    </tr>\n",
       "    <tr>\n",
       "      <th>8860775</th>\n",
       "      <td>респ. Удмуртская;  ; Г. Воткинск; тер СНТ № 8;...</td>\n",
       "      <td>Удмуртская</td>\n",
       "      <td>республика</td>\n",
       "      <td>NaN</td>\n",
       "      <td>NaN</td>\n",
       "      <td>Воткинск</td>\n",
       "      <td>город</td>\n",
       "      <td>СНТ № 8</td>\n",
       "      <td>территория</td>\n",
       "      <td>4-я</td>\n",
       "      <td>улица</td>\n",
       "      <td>NaN</td>\n",
       "      <td>2</td>\n",
       "    </tr>\n",
       "    <tr>\n",
       "      <th>8861864</th>\n",
       "      <td>рес. Удмуртская;  ; г. Воткинск; тер СНТ САД N...</td>\n",
       "      <td>Удмуртская</td>\n",
       "      <td>республика</td>\n",
       "      <td>NaN</td>\n",
       "      <td>NaN</td>\n",
       "      <td>Воткинск</td>\n",
       "      <td>город</td>\n",
       "      <td>СНТ САД N 17</td>\n",
       "      <td>территория</td>\n",
       "      <td>2-я</td>\n",
       "      <td>улица</td>\n",
       "      <td>NaN</td>\n",
       "      <td>2</td>\n",
       "    </tr>\n",
       "  </tbody>\n",
       "</table>\n",
       "</div>"
      ],
      "text/plain": [
       "                                                   address         region   \n",
       "1122608  Край Красноярский; район Большемуртинский; пос...   Красноярский  \\\n",
       "4447073  Обл. Нижегородская;  ; Г Саров; терр. ГСК N 7;...  Нижегородская   \n",
       "5067144  Обл Орловская; р-н. Болховский; село Чегодаево...      Орловская   \n",
       "8860775  респ. Удмуртская;  ; Г. Воткинск; тер СНТ № 8;...     Удмуртская   \n",
       "8861864  рес. Удмуртская;  ; г. Воткинск; тер СНТ САД N...     Удмуртская   \n",
       "\n",
       "        region_type      municipality municipality_type  settlement   \n",
       "1122608        край  Большемуртинский             район  Предивинск  \\\n",
       "4447073     область               NaN               NaN       Саров   \n",
       "5067144     область        Болховский             район   Чегодаево   \n",
       "8860775  республика               NaN               NaN    Воткинск   \n",
       "8861864  республика               NaN               NaN    Воткинск   \n",
       "\n",
       "        settlement_type      location location_type       street street_type   \n",
       "1122608         поселок           NaN           NaN     Горького       улица  \\\n",
       "4447073           город       ГСК N 7    территория          NaN         NaN   \n",
       "5067144            село           NaN           NaN  Центральная       улица   \n",
       "8860775           город       СНТ № 8    территория          4-я       улица   \n",
       "8861864           город  СНТ САД N 17    территория          2-я       улица   \n",
       "\n",
       "        house source  \n",
       "1122608   NaN      2  \n",
       "4447073   NaN      2  \n",
       "5067144   NaN      2  \n",
       "8860775   NaN      2  \n",
       "8861864   NaN      2  "
      ]
     },
     "execution_count": 20,
     "metadata": {},
     "output_type": "execute_result"
    }
   ],
   "source": [
    "df_train[df_train[\"house\"].isna()]"
   ]
  },
  {
   "cell_type": "code",
   "execution_count": 59,
   "id": "9ae3aebf",
   "metadata": {},
   "outputs": [
    {
     "name": "stdout",
     "output_type": "stream",
     "text": [
      "example:\n",
      "\n",
      "address:\n",
      "край Красноярский;  ; г Дивногорск; тер-я Гаражный массив База ОРСА;  ; дом 46; 1\n",
      "\n",
      "\n",
      "features:\n",
      "region                            Красноярский\n",
      "region_type                               край\n",
      "municipality                               NaN\n",
      "municipality_type                          NaN\n",
      "settlement                          Дивногорск\n",
      "settlement_type                          город\n",
      "location             Гаражный массив База ОРСА\n",
      "location_type                       территория\n",
      "street                                     NaN\n",
      "street_type                                NaN\n",
      "house                                   дом 46\n",
      "source                                       1\n",
      "Name: 935083, dtype: object\n"
     ]
    }
   ],
   "source": [
    "i = random.randint(0, df_train.shape[0] - 1)\n",
    "print(f'example:\\n\\naddress:\\n{df_train.loc[i, \"address\"]}\\n\\n\\nfeatures:\\n{df_train.loc[i].drop(labels=[\"address\"])}')"
   ]
  },
  {
   "cell_type": "code",
   "execution_count": null,
   "id": "ffc16ab3",
   "metadata": {},
   "outputs": [],
   "source": []
  }
 ],
 "metadata": {
  "kernelspec": {
   "display_name": "Python 3 (ipykernel)",
   "language": "python",
   "name": "python3"
  },
  "language_info": {
   "codemirror_mode": {
    "name": "ipython",
    "version": 3
   },
   "file_extension": ".py",
   "mimetype": "text/x-python",
   "name": "python",
   "nbconvert_exporter": "python",
   "pygments_lexer": "ipython3",
   "version": "3.11.4"
  }
 },
 "nbformat": 4,
 "nbformat_minor": 5
}
